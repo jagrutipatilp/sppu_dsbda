{
 "cells": [
  {
   "cell_type": "markdown",
   "metadata": {},
   "source": [
    "#### Importing Necessary Libraries"
   ]
  },
  {
   "cell_type": "code",
   "execution_count": 1,
   "metadata": {},
   "outputs": [
    {
     "name": "stderr",
     "output_type": "stream",
     "text": [
      "C:\\Users\\aakas\\AppData\\Local\\Temp\\ipykernel_16520\\2162656668.py:1: DeprecationWarning: \n",
      "Pyarrow will become a required dependency of pandas in the next major release of pandas (pandas 3.0),\n",
      "(to allow more performant data types, such as the Arrow string type, and better interoperability with other libraries)\n",
      "but was not found to be installed on your system.\n",
      "If this would cause problems for you,\n",
      "please provide us feedback at https://github.com/pandas-dev/pandas/issues/54466\n",
      "        \n",
      "  import pandas as pd\n"
     ]
    }
   ],
   "source": [
    "import pandas as pd\n",
    "import numpy as np"
   ]
  },
  {
   "cell_type": "markdown",
   "metadata": {},
   "source": [
    "#### Reading Dataset"
   ]
  },
  {
   "cell_type": "code",
   "execution_count": 2,
   "metadata": {},
   "outputs": [],
   "source": [
    "salary = pd.read_csv(\"assignment3-part-1-dataset1.csv\")\n",
    "\n",
    "#store = pd.read_csv(\"assignment3-part-1-dataset2.csv\")"
   ]
  },
  {
   "cell_type": "code",
   "execution_count": 3,
   "metadata": {},
   "outputs": [
    {
     "data": {
      "text/html": [
       "<div>\n",
       "<style scoped>\n",
       "    .dataframe tbody tr th:only-of-type {\n",
       "        vertical-align: middle;\n",
       "    }\n",
       "\n",
       "    .dataframe tbody tr th {\n",
       "        vertical-align: top;\n",
       "    }\n",
       "\n",
       "    .dataframe thead th {\n",
       "        text-align: right;\n",
       "    }\n",
       "</style>\n",
       "<table border=\"1\" class=\"dataframe\">\n",
       "  <thead>\n",
       "    <tr style=\"text-align: right;\">\n",
       "      <th></th>\n",
       "      <th>Unnamed: 0</th>\n",
       "      <th>Company Name</th>\n",
       "      <th>Job Title</th>\n",
       "      <th>Salaries Reported</th>\n",
       "      <th>Location</th>\n",
       "      <th>Salary</th>\n",
       "    </tr>\n",
       "  </thead>\n",
       "  <tbody>\n",
       "    <tr>\n",
       "      <th>0</th>\n",
       "      <td>0</td>\n",
       "      <td>Mu Sigma</td>\n",
       "      <td>Data Scientist</td>\n",
       "      <td>105</td>\n",
       "      <td>Bangalore</td>\n",
       "      <td>648573.0</td>\n",
       "    </tr>\n",
       "    <tr>\n",
       "      <th>1</th>\n",
       "      <td>1</td>\n",
       "      <td>IBM</td>\n",
       "      <td>Data Scientist</td>\n",
       "      <td>95</td>\n",
       "      <td>Bangalore</td>\n",
       "      <td>1191950.0</td>\n",
       "    </tr>\n",
       "    <tr>\n",
       "      <th>2</th>\n",
       "      <td>2</td>\n",
       "      <td>Tata Consultancy Services</td>\n",
       "      <td>Data Scientist</td>\n",
       "      <td>66</td>\n",
       "      <td>Bangalore</td>\n",
       "      <td>836874.0</td>\n",
       "    </tr>\n",
       "    <tr>\n",
       "      <th>3</th>\n",
       "      <td>3</td>\n",
       "      <td>Impact Analytics</td>\n",
       "      <td>Data Scientist</td>\n",
       "      <td>40</td>\n",
       "      <td>Bangalore</td>\n",
       "      <td>669578.0</td>\n",
       "    </tr>\n",
       "    <tr>\n",
       "      <th>4</th>\n",
       "      <td>4</td>\n",
       "      <td>Accenture</td>\n",
       "      <td>Data Scientist</td>\n",
       "      <td>32</td>\n",
       "      <td>Bangalore</td>\n",
       "      <td>944110.0</td>\n",
       "    </tr>\n",
       "  </tbody>\n",
       "</table>\n",
       "</div>"
      ],
      "text/plain": [
       "   Unnamed: 0               Company Name       Job Title  Salaries Reported  \\\n",
       "0           0                   Mu Sigma  Data Scientist                105   \n",
       "1           1                        IBM  Data Scientist                 95   \n",
       "2           2  Tata Consultancy Services  Data Scientist                 66   \n",
       "3           3           Impact Analytics  Data Scientist                 40   \n",
       "4           4                  Accenture  Data Scientist                 32   \n",
       "\n",
       "    Location     Salary  \n",
       "0  Bangalore   648573.0  \n",
       "1  Bangalore  1191950.0  \n",
       "2  Bangalore   836874.0  \n",
       "3  Bangalore   669578.0  \n",
       "4  Bangalore   944110.0  "
      ]
     },
     "execution_count": 3,
     "metadata": {},
     "output_type": "execute_result"
    }
   ],
   "source": [
    "salary.head()"
   ]
  },
  {
   "cell_type": "markdown",
   "metadata": {},
   "source": [
    "#### Replacing ? with NaN"
   ]
  },
  {
   "cell_type": "code",
   "execution_count": 4,
   "metadata": {},
   "outputs": [],
   "source": [
    "salary.replace(\"?\", np.nan,inplace=True)"
   ]
  },
  {
   "cell_type": "markdown",
   "metadata": {},
   "source": [
    "#### Checking Missing Values"
   ]
  },
  {
   "cell_type": "code",
   "execution_count": 5,
   "metadata": {},
   "outputs": [
    {
     "data": {
      "text/plain": [
       "Unnamed: 0           0\n",
       "Company Name         0\n",
       "Job Title            0\n",
       "Salaries Reported    0\n",
       "Location             0\n",
       "Salary               0\n",
       "dtype: int64"
      ]
     },
     "execution_count": 5,
     "metadata": {},
     "output_type": "execute_result"
    }
   ],
   "source": [
    "salary.isnull().sum()"
   ]
  },
  {
   "cell_type": "markdown",
   "metadata": {},
   "source": [
    "#### Grouping dataset by Job Title"
   ]
  },
  {
   "cell_type": "code",
   "execution_count": 6,
   "metadata": {},
   "outputs": [
    {
     "data": {
      "text/plain": [
       "<pandas.core.groupby.generic.DataFrameGroupBy object at 0x000001E13C1BB140>"
      ]
     },
     "execution_count": 6,
     "metadata": {},
     "output_type": "execute_result"
    }
   ],
   "source": [
    "salary.groupby(\"Job Title\")"
   ]
  },
  {
   "cell_type": "code",
   "execution_count": 7,
   "metadata": {},
   "outputs": [
    {
     "data": {
      "text/html": [
       "<div>\n",
       "<style scoped>\n",
       "    .dataframe tbody tr th:only-of-type {\n",
       "        vertical-align: middle;\n",
       "    }\n",
       "\n",
       "    .dataframe tbody tr th {\n",
       "        vertical-align: top;\n",
       "    }\n",
       "\n",
       "    .dataframe thead th {\n",
       "        text-align: right;\n",
       "    }\n",
       "</style>\n",
       "<table border=\"1\" class=\"dataframe\">\n",
       "  <thead>\n",
       "    <tr style=\"text-align: right;\">\n",
       "      <th></th>\n",
       "      <th>Unnamed: 0</th>\n",
       "      <th>Company Name</th>\n",
       "      <th>Job Title</th>\n",
       "      <th>Salaries Reported</th>\n",
       "      <th>Location</th>\n",
       "      <th>Salary</th>\n",
       "    </tr>\n",
       "  </thead>\n",
       "  <tbody>\n",
       "    <tr>\n",
       "      <th>0</th>\n",
       "      <td>0</td>\n",
       "      <td>Mu Sigma</td>\n",
       "      <td>Data Scientist</td>\n",
       "      <td>105</td>\n",
       "      <td>Bangalore</td>\n",
       "      <td>648573.0</td>\n",
       "    </tr>\n",
       "    <tr>\n",
       "      <th>1</th>\n",
       "      <td>1</td>\n",
       "      <td>IBM</td>\n",
       "      <td>Data Scientist</td>\n",
       "      <td>95</td>\n",
       "      <td>Bangalore</td>\n",
       "      <td>1191950.0</td>\n",
       "    </tr>\n",
       "    <tr>\n",
       "      <th>2</th>\n",
       "      <td>2</td>\n",
       "      <td>Tata Consultancy Services</td>\n",
       "      <td>Data Scientist</td>\n",
       "      <td>66</td>\n",
       "      <td>Bangalore</td>\n",
       "      <td>836874.0</td>\n",
       "    </tr>\n",
       "    <tr>\n",
       "      <th>3</th>\n",
       "      <td>3</td>\n",
       "      <td>Impact Analytics</td>\n",
       "      <td>Data Scientist</td>\n",
       "      <td>40</td>\n",
       "      <td>Bangalore</td>\n",
       "      <td>669578.0</td>\n",
       "    </tr>\n",
       "    <tr>\n",
       "      <th>4</th>\n",
       "      <td>4</td>\n",
       "      <td>Accenture</td>\n",
       "      <td>Data Scientist</td>\n",
       "      <td>32</td>\n",
       "      <td>Bangalore</td>\n",
       "      <td>944110.0</td>\n",
       "    </tr>\n",
       "  </tbody>\n",
       "</table>\n",
       "</div>"
      ],
      "text/plain": [
       "   Unnamed: 0               Company Name       Job Title  Salaries Reported  \\\n",
       "0           0                   Mu Sigma  Data Scientist                105   \n",
       "1           1                        IBM  Data Scientist                 95   \n",
       "2           2  Tata Consultancy Services  Data Scientist                 66   \n",
       "3           3           Impact Analytics  Data Scientist                 40   \n",
       "4           4                  Accenture  Data Scientist                 32   \n",
       "\n",
       "    Location     Salary  \n",
       "0  Bangalore   648573.0  \n",
       "1  Bangalore  1191950.0  \n",
       "2  Bangalore   836874.0  \n",
       "3  Bangalore   669578.0  \n",
       "4  Bangalore   944110.0  "
      ]
     },
     "execution_count": 7,
     "metadata": {},
     "output_type": "execute_result"
    }
   ],
   "source": [
    "salary.head()"
   ]
  },
  {
   "cell_type": "markdown",
   "metadata": {},
   "source": [
    "##### Finding Mean"
   ]
  },
  {
   "cell_type": "code",
   "execution_count": 8,
   "metadata": {},
   "outputs": [
    {
     "name": "stdout",
     "output_type": "stream",
     "text": [
      "Job Title\n",
      "Associate Machine Learning Engineer     4.643720e+05\n",
      "Data Analyst                            6.164699e+05\n",
      "Data Engineer                           1.309051e+06\n",
      "Data Science                            3.649053e+05\n",
      "Data Science Associate                  1.203913e+06\n",
      "Data Science Consultant                 2.671464e+06\n",
      "Data Science Lead                       4.068310e+06\n",
      "Data Science Manager                    4.619021e+06\n",
      "Data Scientist                          1.411330e+06\n",
      "Data Scientist - Trainee                6.105120e+05\n",
      "Junior Data Scientist                   5.963231e+05\n",
      "Lead Data Scientist                     1.852189e+06\n",
      "Machine Learning Associate              2.951140e+05\n",
      "Machine Learning Consultant             7.064010e+05\n",
      "Machine Learning Data Analyst           3.613780e+05\n",
      "Machine Learning Data Associate         2.758410e+05\n",
      "Machine Learning Data Associate I       2.585960e+05\n",
      "Machine Learning Data Associate II      3.832130e+05\n",
      "Machine Learning Developer              5.811190e+05\n",
      "Machine Learning Engineer               7.971884e+05\n",
      "Machine Learning Scientist              1.701180e+05\n",
      "Machine Learning Software Engineer      1.397347e+06\n",
      "Senior Data Scientist                   1.766130e+06\n",
      "Senior Machine Learning Engineer        1.473436e+06\n",
      "Software Engineer - Machine Learning    1.566780e+06\n",
      "Name: Salary, dtype: float64\n"
     ]
    }
   ],
   "source": [
    "mean = salary.groupby(\"Job Title\")[\"Salary\"].mean()\n",
    "print(mean)"
   ]
  },
  {
   "cell_type": "markdown",
   "metadata": {},
   "source": [
    "#### Finding median"
   ]
  },
  {
   "cell_type": "code",
   "execution_count": 9,
   "metadata": {},
   "outputs": [
    {
     "name": "stdout",
     "output_type": "stream",
     "text": [
      "Job Title\n",
      "Associate Machine Learning Engineer      464372.0\n",
      "Data Analyst                             508150.5\n",
      "Data Engineer                            792683.0\n",
      "Data Science                             240780.0\n",
      "Data Science Associate                  1203913.0\n",
      "Data Science Consultant                 2671464.0\n",
      "Data Science Lead                       4068310.0\n",
      "Data Science Manager                    4619021.0\n",
      "Data Scientist                           914480.0\n",
      "Data Scientist - Trainee                 610512.0\n",
      "Junior Data Scientist                    554963.0\n",
      "Lead Data Scientist                     1664364.0\n",
      "Machine Learning Associate               295114.0\n",
      "Machine Learning Consultant              706401.0\n",
      "Machine Learning Data Analyst            361378.0\n",
      "Machine Learning Data Associate          275841.0\n",
      "Machine Learning Data Associate I        258596.0\n",
      "Machine Learning Data Associate II       383213.0\n",
      "Machine Learning Developer               581119.0\n",
      "Machine Learning Engineer                627048.5\n",
      "Machine Learning Scientist               170118.0\n",
      "Machine Learning Software Engineer      1397347.0\n",
      "Senior Data Scientist                   1733388.0\n",
      "Senior Machine Learning Engineer        1335445.0\n",
      "Software Engineer - Machine Learning    1566780.0\n",
      "Name: Salary, dtype: float64\n"
     ]
    }
   ],
   "source": [
    "median = salary.groupby(\"Job Title\")[\"Salary\"].median()\n",
    "print(median)"
   ]
  },
  {
   "cell_type": "markdown",
   "metadata": {},
   "source": [
    "#### Finding mode"
   ]
  },
  {
   "cell_type": "code",
   "execution_count": 10,
   "metadata": {},
   "outputs": [
    {
     "name": "stdout",
     "output_type": "stream",
     "text": [
      "Job Title\n",
      "Associate Machine Learning Engineer      464372.0\n",
      "Data Analyst                             338792.0\n",
      "Data Engineer                            515940.0\n",
      "Data Science                             180000.0\n",
      "Data Science Associate                  1203913.0\n",
      "Data Science Consultant                 2671464.0\n",
      "Data Science Lead                       4068310.0\n",
      "Data Science Manager                    4619021.0\n",
      "Data Scientist                           600000.0\n",
      "Data Scientist - Trainee                 610512.0\n",
      "Junior Data Scientist                    616492.0\n",
      "Lead Data Scientist                     1520967.0\n",
      "Machine Learning Associate               295114.0\n",
      "Machine Learning Consultant              186475.0\n",
      "Machine Learning Data Analyst            361378.0\n",
      "Machine Learning Data Associate          275841.0\n",
      "Machine Learning Data Associate I        258596.0\n",
      "Machine Learning Data Associate II       383213.0\n",
      "Machine Learning Developer               410952.0\n",
      "Machine Learning Engineer                128988.0\n",
      "Machine Learning Scientist                62160.0\n",
      "Machine Learning Software Engineer      1397347.0\n",
      "Senior Data Scientist                   2474429.0\n",
      "Senior Machine Learning Engineer         229416.0\n",
      "Software Engineer - Machine Learning    1521236.0\n",
      "Name: Salary, dtype: float64\n"
     ]
    }
   ],
   "source": [
    "mode = salary.groupby(\"Job Title\")[\"Salary\"].apply(lambda x:x.mode().iloc[0])\n",
    "print(mode)\n",
    "\n",
    "# lambda x: This defines an anonymous function (lambda function) that takes one argument x. \n",
    "# In this context, x represents each group of salaries within each job title.\n",
    "\n",
    "# x.mode(): Inside the lambda function, x is a Series object containing all the salaries within a specific job title group. \n",
    "# The mode() function is called on this Series object to compute the mode, i.e., the most frequently occurring value.\n",
    "\n",
    "# .iloc[0]: After calculating the mode, .iloc[0] is used to retrieve the first value from the resulting Series. \n",
    "# This is necessary because the mode() function may return multiple values if there are ties for the most frequent value. \n",
    "# By selecting the first value, we ensure that only one mode value is returned."
   ]
  },
  {
   "cell_type": "markdown",
   "metadata": {},
   "source": [
    "#### Finding minimum value"
   ]
  },
  {
   "cell_type": "code",
   "execution_count": 11,
   "metadata": {},
   "outputs": [
    {
     "name": "stdout",
     "output_type": "stream",
     "text": [
      "Job Title\n",
      "Associate Machine Learning Engineer      464372.0\n",
      "Data Analyst                              10814.0\n",
      "Data Engineer                             33120.0\n",
      "Data Science                              60840.0\n",
      "Data Science Associate                  1203913.0\n",
      "Data Science Consultant                 2671464.0\n",
      "Data Science Lead                       4068310.0\n",
      "Data Science Manager                    4619021.0\n",
      "Data Scientist                            48000.0\n",
      "Data Scientist - Trainee                 610512.0\n",
      "Junior Data Scientist                     60840.0\n",
      "Lead Data Scientist                     1520967.0\n",
      "Machine Learning Associate               295114.0\n",
      "Machine Learning Consultant              186475.0\n",
      "Machine Learning Data Analyst            361378.0\n",
      "Machine Learning Data Associate          275841.0\n",
      "Machine Learning Data Associate I        258596.0\n",
      "Machine Learning Data Associate II       383213.0\n",
      "Machine Learning Developer               410952.0\n",
      "Machine Learning Engineer                 21628.0\n",
      "Machine Learning Scientist                62160.0\n",
      "Machine Learning Software Engineer      1397347.0\n",
      "Senior Data Scientist                    324089.0\n",
      "Senior Machine Learning Engineer         229416.0\n",
      "Software Engineer - Machine Learning    1521236.0\n",
      "Name: Salary, dtype: float64\n"
     ]
    }
   ],
   "source": [
    "minimum = salary.groupby(\"Job Title\")[\"Salary\"].min()\n",
    "print(minimum)"
   ]
  },
  {
   "cell_type": "markdown",
   "metadata": {},
   "source": [
    "#### Finding Maximum Values"
   ]
  },
  {
   "cell_type": "code",
   "execution_count": 12,
   "metadata": {},
   "outputs": [
    {
     "name": "stdout",
     "output_type": "stream",
     "text": [
      "Job Title\n",
      "Associate Machine Learning Engineer     4.643720e+05\n",
      "Data Analyst                            3.900962e+07\n",
      "Data Engineer                           1.190400e+08\n",
      "Data Science                            2.000000e+06\n",
      "Data Science Associate                  1.203913e+06\n",
      "Data Science Consultant                 2.671464e+06\n",
      "Data Science Lead                       4.068310e+06\n",
      "Data Science Manager                    4.619021e+06\n",
      "Data Scientist                          1.661404e+08\n",
      "Data Scientist - Trainee                6.105120e+05\n",
      "Junior Data Scientist                   1.498750e+06\n",
      "Lead Data Scientist                     2.839138e+06\n",
      "Machine Learning Associate              2.951140e+05\n",
      "Machine Learning Consultant             1.226327e+06\n",
      "Machine Learning Data Analyst           3.613780e+05\n",
      "Machine Learning Data Associate         2.758410e+05\n",
      "Machine Learning Data Associate I       2.585960e+05\n",
      "Machine Learning Data Associate II      3.832130e+05\n",
      "Machine Learning Developer              7.512860e+05\n",
      "Machine Learning Engineer               6.518917e+06\n",
      "Machine Learning Scientist              2.780760e+05\n",
      "Machine Learning Software Engineer      1.397347e+06\n",
      "Senior Data Scientist                   3.654010e+06\n",
      "Senior Machine Learning Engineer        3.110514e+06\n",
      "Software Engineer - Machine Learning    1.612324e+06\n",
      "Name: Salary, dtype: float64\n"
     ]
    }
   ],
   "source": [
    "maximum = salary.groupby(\"Job Title\")[\"Salary\"].max()\n",
    "print(maximum)"
   ]
  },
  {
   "cell_type": "markdown",
   "metadata": {},
   "source": [
    "#### Finding Standard Deviation"
   ]
  },
  {
   "cell_type": "code",
   "execution_count": 16,
   "metadata": {},
   "outputs": [
    {
     "name": "stdout",
     "output_type": "stream",
     "text": [
      "Job Title\n",
      "Associate Machine Learning Engineer     0.000000e+00\n",
      "Data Analyst                            1.292116e+06\n",
      "Data Engineer                           6.009190e+06\n",
      "Data Science                            3.388020e+05\n",
      "Data Science Associate                  0.000000e+00\n",
      "Data Science Consultant                 0.000000e+00\n",
      "Data Science Lead                       0.000000e+00\n",
      "Data Science Manager                    0.000000e+00\n",
      "Data Scientist                          5.140558e+06\n",
      "Data Scientist - Trainee                0.000000e+00\n",
      "Junior Data Scientist                   3.931792e+05\n",
      "Lead Data Scientist                     5.017356e+05\n",
      "Machine Learning Associate              0.000000e+00\n",
      "Machine Learning Consultant             7.352864e+05\n",
      "Machine Learning Data Analyst           0.000000e+00\n",
      "Machine Learning Data Associate         0.000000e+00\n",
      "Machine Learning Data Associate I       0.000000e+00\n",
      "Machine Learning Data Associate II      0.000000e+00\n",
      "Machine Learning Developer              2.406525e+05\n",
      "Machine Learning Engineer               7.047460e+05\n",
      "Machine Learning Scientist              1.526757e+05\n",
      "Machine Learning Software Engineer      0.000000e+00\n",
      "Senior Data Scientist                   7.833905e+05\n",
      "Senior Machine Learning Engineer        9.506370e+05\n",
      "Software Engineer - Machine Learning    6.440894e+04\n",
      "Name: Salary, dtype: float64\n"
     ]
    }
   ],
   "source": [
    "std = salary.groupby(\"Job Title\")[\"Salary\"].std()\n",
    "std.replace(np.NaN, 0, inplace=True)\n",
    "print(std)"
   ]
  }
 ],
 "metadata": {
  "kernelspec": {
   "display_name": "Python 3",
   "language": "python",
   "name": "python3"
  },
  "language_info": {
   "codemirror_mode": {
    "name": "ipython",
    "version": 3
   },
   "file_extension": ".py",
   "mimetype": "text/x-python",
   "name": "python",
   "nbconvert_exporter": "python",
   "pygments_lexer": "ipython3",
   "version": "3.12.1"
  }
 },
 "nbformat": 4,
 "nbformat_minor": 2
}
